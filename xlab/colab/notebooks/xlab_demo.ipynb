{
  "nbformat": 4,
  "nbformat_minor": 0,
  "metadata": {
    "colab": {
      "name": "xlab_demo.ipynb",
      "provenance": [],
      "collapsed_sections": [],
      "toc_visible": true,
      "authorship_tag": "ABX9TyNREz3CGmcyAZ9ggou8zemv",
      "include_colab_link": true
    },
    "kernelspec": {
      "name": "python3",
      "display_name": "Python 3"
    }
  },
  "cells": [
    {
      "cell_type": "markdown",
      "metadata": {
        "id": "view-in-github",
        "colab_type": "text"
      },
      "source": [
        "<a href=\"https://colab.research.google.com/github/dayfine/xlab/blob/di%2Fcolab/xlab/colab/notebooks/xlab_demo.ipynb\" target=\"_parent\"><img src=\"https://colab.research.google.com/assets/colab-badge.svg\" alt=\"Open In Colab\"/></a>"
      ]
    },
    {
      "cell_type": "markdown",
      "metadata": {
        "id": "f4ac4mmttUbn",
        "colab_type": "text"
      },
      "source": [
        "# Xlab Demo\n",
        "\n",
        "A simple demo of the xlab system. This notebook retrieves data for a stock, e.g. `SPY`, and render it in a chart."
      ]
    },
    {
      "cell_type": "markdown",
      "metadata": {
        "id": "mDSoSoOi1D5X",
        "colab_type": "text"
      },
      "source": [
        "### Imports"
      ]
    },
    {
      "cell_type": "code",
      "metadata": {
        "id": "ex1fKeBr0Zrq",
        "colab_type": "code",
        "colab": {}
      },
      "source": [
        "import altair as alt\n",
        "import pandas as pd\n",
        "\n",
        "from google.protobuf import json_format\n",
        "\n",
        "from xlab.data import store\n",
        "from xlab.data.converters import mongo as mongo_converter\n",
        "from xlab.data.proto import data_type_pb2\n",
        "from xlab.data.store import mongo\n",
        "\n",
        "DataType = data_type_pb2.DataType"
      ],
      "execution_count": 0,
      "outputs": []
    },
    {
      "cell_type": "markdown",
      "metadata": {
        "id": "pgRGNHi71K09",
        "colab_type": "text"
      },
      "source": [
        "### Fetch Data"
      ]
    },
    {
      "cell_type": "code",
      "metadata": {
        "id": "jYD4dzJtx1Ce",
        "colab_type": "code",
        "colab": {}
      },
      "source": [
        "_store = mongo.MongoDataStore()\n",
        "\n",
        "all_data = _store.lookup(store.DataStore.LookupKey(data_space=1,symbol='SPY'))"
      ],
      "execution_count": 0,
      "outputs": []
    },
    {
      "cell_type": "markdown",
      "metadata": {
        "id": "Qv1kKRsn1Tgj",
        "colab_type": "text"
      },
      "source": [
        "### Process Data"
      ]
    },
    {
      "cell_type": "code",
      "metadata": {
        "id": "76USpripkbWG",
        "colab_type": "code",
        "colab": {}
      },
      "source": [
        "data_as_dicts = [mongo_converter.to_mongo_doc(data_entry) for data_entry in all_data.entries]\n",
        "prices = [d for d in data_as_dicts if d['dataType'] == DataType.CLOSE_PRICE]\n",
        "\n",
        "df = pd.DataFrame(prices)"
      ],
      "execution_count": 0,
      "outputs": []
    },
    {
      "cell_type": "markdown",
      "metadata": {
        "id": "7CaZbVvr1YeY",
        "colab_type": "text"
      },
      "source": [
        "### Display"
      ]
    },
    {
      "cell_type": "code",
      "metadata": {
        "id": "L9lul-CQshVr",
        "colab_type": "code",
        "colab": {}
      },
      "source": [
        "alt.Chart(df).mark_point().encode(\n",
        "    x='timestamp',\n",
        "    y=alt.Y('value',\n",
        "        scale=alt.Scale(zero=False)\n",
        "    ),\n",
        ").configure_mark(\n",
        "    opacity=0.5,\n",
        "    color='red'\n",
        ")"
      ],
      "execution_count": 0,
      "outputs": []
    }
  ]
}