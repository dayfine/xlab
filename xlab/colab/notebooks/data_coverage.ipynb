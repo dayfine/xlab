{
  "nbformat": 4,
  "nbformat_minor": 0,
  "metadata": {
    "colab": {
      "name": "data_coverage.ipynb",
      "provenance": [],
      "collapsed_sections": [],
      "authorship_tag": "ABX9TyMpmVQ8u5u7oWGBKKwDSqDq",
      "include_colab_link": true
    },
    "kernelspec": {
      "name": "python3",
      "display_name": "Python 3"
    }
  },
  "cells": [
    {
      "cell_type": "markdown",
      "metadata": {
        "id": "view-in-github",
        "colab_type": "text"
      },
      "source": [
        "<a href=\"https://colab.research.google.com/github/dayfine/xlab/blob/master/xlab/colab/notebooks/data_coverage.ipynb\" target=\"_parent\"><img src=\"https://colab.research.google.com/assets/colab-badge.svg\" alt=\"Open In Colab\"/></a>"
      ]
    },
    {
      "cell_type": "markdown",
      "metadata": {
        "id": "wpD5XzSZ1dmm",
        "colab_type": "text"
      },
      "source": [
        "# Xlab Data Coverage\n",
        "\n",
        "This notebook is used to check the coverage and stats of xlab data, e.g. what type of data exists for a particular security, over what date / time range, etc.\n",
        "\n",
        "TODO: Optionally can be used to correct faulty data."
      ]
    },
    {
      "cell_type": "markdown",
      "metadata": {
        "id": "jCIY1wNQ0i9F",
        "colab_type": "text"
      },
      "source": [
        "## Setup"
      ]
    },
    {
      "cell_type": "code",
      "metadata": {
        "id": "CegI8xYzinVW",
        "colab_type": "code",
        "colab": {}
      },
      "source": [
        "import pandas as pd\n",
        "\n",
        "from xlab.data import store\n",
        "from xlab.data.store import mongo\n",
        "from xlab.data.proto import data_type_pb2\n",
        "from xlab.data.store.mongo import admin\n",
        "from xlab.data.validation import duplicates\n",
        "from xlab.net.proto import time_util\n",
        "from xlab.util.itertools import groupby"
      ],
      "execution_count": null,
      "outputs": []
    },
    {
      "cell_type": "code",
      "metadata": {
        "id": "39l62uuV03nx",
        "colab_type": "code",
        "cellView": "form",
        "colab": {}
      },
      "source": [
        "#@title Inputs\n",
        "symbol = \"X\" #@param {type:\"string\"}\n"
      ],
      "execution_count": null,
      "outputs": []
    },
    {
      "cell_type": "markdown",
      "metadata": {
        "id": "2o2JdwTo0jaz",
        "colab_type": "text"
      },
      "source": [
        "## Fetch Data for a Security"
      ]
    },
    {
      "cell_type": "code",
      "metadata": {
        "id": "TPZJx6r7jxjh",
        "colab_type": "code",
        "colab": {}
      },
      "source": [
        "_store = mongo.MongoDataStore()\n",
        "\n",
        "all_data = _store.lookup(store.DataStore.LookupKey(data_space=1,symbol=symbol))"
      ],
      "execution_count": null,
      "outputs": []
    },
    {
      "cell_type": "markdown",
      "metadata": {
        "id": "8r1FgffO0jT4",
        "colab_type": "text"
      },
      "source": [
        "## Generate Stats"
      ]
    },
    {
      "cell_type": "code",
      "metadata": {
        "id": "sO1jrURlmM5u",
        "colab_type": "code",
        "colab": {}
      },
      "source": [
        "table_columns = ['dataType', 'startDate', 'endDate', '# Duplicates']\n",
        "table_data = []\n",
        "\n",
        "all_duplicate_ids = []\n",
        "all_duplicates_with_different_values = {}\n",
        "\n",
        "for data_type, data_entries in groupby.groupby(\n",
        "                                 all_data.entries, lambda x: x.data_type).items():\n",
        "    duplicate_ids, duplicates_with_different_values = duplicates.find_all_duplicates(data_entries)\n",
        "    all_duplicate_ids.extend(duplicate_ids)\n",
        "    all_duplicates_with_different_values.update(duplicates_with_different_values)\n",
        "\n",
        "    table_data.append([data_type_pb2.DataType.Enum.Name(data_type),\n",
        "                       time_util.to_civil(data_entries[0].timestamp),\n",
        "                       time_util.to_civil(data_entries[-1].timestamp),\n",
        "                       len(duplicate_ids)])"
      ],
      "execution_count": null,
      "outputs": []
    },
    {
      "cell_type": "markdown",
      "metadata": {
        "id": "EysuxF4K0vnj",
        "colab_type": "text"
      },
      "source": [
        "## Display Data Stats for the Security"
      ]
    },
    {
      "cell_type": "code",
      "metadata": {
        "id": "KdBde7cmz0X9",
        "colab_type": "code",
        "colab": {}
      },
      "source": [
        "print(f'Data stats for {symbol}\\n')\n",
        "df = pd.DataFrame(data=table_data, columns=table_columns)\n",
        "df"
      ],
      "execution_count": null,
      "outputs": []
    },
    {
      "cell_type": "code",
      "metadata": {
        "id": "mAMRZC7-1yWE",
        "colab_type": "code",
        "colab": {}
      },
      "source": [
        ""
      ],
      "execution_count": null,
      "outputs": []
    },
    {
      "cell_type": "code",
      "metadata": {
        "id": "-0moMKp7xn3O",
        "colab_type": "code",
        "colab": {}
      },
      "source": [
        "if all_duplicates_with_different_values:\n",
        "    print(f'Found {len(all_duplicates_with_different_values)} duplicates with different values')\n",
        "    print('Please double check if they should be deleted or kept in favor of the oldest value')\n",
        "\n",
        "def _collect_ids(all_duplicates_with_different_values):\n",
        "    return [data.id for data in data_entries \n",
        "            for id, data_entries in all_duplicates_with_different_values.items()]\n",
        "\n",
        "if all_duplicate_ids:\n",
        "    print(f'Found {len(all_duplicate_ids)} duplicates.')\n",
        "\n",
        "simple_duplicate_ids = [id for id in all_duplicate_ids \n",
        "                        if id not in _collect_ids(all_duplicates_with_different_values)]\n",
        "delete_result = admin.delete_by_ids(all_duplicate_ids)\n",
        "print(f'{delete_result.deleted_count} items deleted.')"
      ],
      "execution_count": null,
      "outputs": []
    }
  ]
}
