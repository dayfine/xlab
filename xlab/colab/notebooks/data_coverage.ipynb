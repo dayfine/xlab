{
  "nbformat": 4,
  "nbformat_minor": 0,
  "metadata": {
    "colab": {
      "name": "data_coverage.ipynb",
      "provenance": [],
      "collapsed_sections": [],
      "authorship_tag": "ABX9TyN/3ff1BKAmDpzzg021ZRH1",
      "include_colab_link": true
    },
    "kernelspec": {
      "name": "python3",
      "display_name": "Python 3"
    }
  },
  "cells": [
    {
      "cell_type": "markdown",
      "metadata": {
        "id": "view-in-github",
        "colab_type": "text"
      },
      "source": [
        "<a href=\"https://colab.research.google.com/github/dayfine/xlab/blob/di%2Fcolab/data_coverage.ipynb\" target=\"_parent\"><img src=\"https://colab.research.google.com/assets/colab-badge.svg\" alt=\"Open In Colab\"/></a>"
      ]
    },
    {
      "cell_type": "markdown",
      "metadata": {
        "id": "wpD5XzSZ1dmm",
        "colab_type": "text"
      },
      "source": [
        "# Xlab Data Coverage\n",
        "\n",
        "This notebook is used to check the coverage and stats of xlab data, e.g. what type of data exists for a particular security, over what date / time range, etc.\n",
        "\n",
        "TODO: Optionally can be used to correct faulty data."
      ]
    },
    {
      "cell_type": "markdown",
      "metadata": {
        "id": "jCIY1wNQ0i9F",
        "colab_type": "text"
      },
      "source": [
        "## Setup"
      ]
    },
    {
      "cell_type": "code",
      "metadata": {
        "id": "CegI8xYzinVW",
        "colab_type": "code",
        "colab": {}
      },
      "source": [
        "import collections\n",
        "import pandas as pd\n",
        "\n",
        "from google.protobuf import json_format\n",
        "\n",
        "from xlab.data import store\n",
        "from xlab.data.converters import mongo as mongo_converter\n",
        "from xlab.data.proto import data_type_pb2\n",
        "from xlab.data.store import mongo\n",
        "from xlab.trading.dates import trading_days\n",
        "\n",
        "_DataType = data_type_pb2.DataType"
      ],
      "execution_count": null,
      "outputs": []
    },
    {
      "cell_type": "code",
      "metadata": {
        "id": "39l62uuV03nx",
        "colab_type": "code",
        "colab": {},
        "cellView": "form"
      },
      "source": [
        "#@title Inputs\n",
        "symbol = \"SPY\" #@param {type:\"string\"}\n"
      ],
      "execution_count": null,
      "outputs": []
    },
    {
      "cell_type": "markdown",
      "metadata": {
        "id": "2o2JdwTo0jaz",
        "colab_type": "text"
      },
      "source": [
        "## Fetch Data for a Security"
      ]
    },
    {
      "cell_type": "code",
      "metadata": {
        "id": "TPZJx6r7jxjh",
        "colab_type": "code",
        "colab": {}
      },
      "source": [
        "_store = mongo.MongoDataStore()\n",
        "\n",
        "all_data = _store.lookup(store.DataStore.LookupKey(data_space=1,symbol=symbol))"
      ],
      "execution_count": null,
      "outputs": []
    },
    {
      "cell_type": "markdown",
      "metadata": {
        "id": "8r1FgffO0jT4",
        "colab_type": "text"
      },
      "source": [
        "## Generate Stats"
      ]
    },
    {
      "cell_type": "code",
      "metadata": {
        "id": "YtsdJucixF1Y",
        "colab_type": "code",
        "colab": {}
      },
      "source": [
        "data_as_dicts = [mongo_converter.to_mongo_doc(data_entry) for data_entry in all_data.entries]"
      ],
      "execution_count": null,
      "outputs": []
    },
    {
      "cell_type": "code",
      "metadata": {
        "id": "sO1jrURlmM5u",
        "colab_type": "code",
        "colab": {}
      },
      "source": [
        "def groupby(iterable, key_fn):\n",
        "    res = collections.OrderedDict()\n",
        "    for item in iterable:\n",
        "        key = key_fn(item)\n",
        "        res.setdefault(key, []).append(item)\n",
        "    return res\n",
        "\n",
        "table_columns = ['dataType', 'startDate', 'endDate', '# Duplicates']\n",
        "table_data = []\n",
        "\n",
        "for dataType, dataEntries in groupby(data_as_dicts, lambda x: x['dataType']\n",
        "                                     ).items():\n",
        "    dataEntries.sort(key=lambda x: x['timestamp'])\n",
        "\n",
        "    seen_dates = set()\n",
        "    duplicates = []\n",
        "\n",
        "    expected_trading_day = dataEntries[0]['timestamp']\n",
        "    for data in dataEntries:\n",
        "        t = data['timestamp']\n",
        "        if data['timestamp'] in seen_dates:\n",
        "            duplicates.append(data)\n",
        "            continue\n",
        "        if t != expected_trading_day:\n",
        "            raise ValueError(\n",
        "                f'Time error: expected({expected_trading_day}) got({t})')\n",
        "        seen_dates.add(data['timestamp'])\n",
        "        expected_trading_day = trading_days.get_next_n(\n",
        "            expected_trading_day, 1)[0]\n",
        "\n",
        "    table_data.append([_DataType.Enum.Name(dataType),\n",
        "                       dataEntries[0]['timestamp'],\n",
        "                       dataEntries[-1]['timestamp'],\n",
        "                       len(duplicates)])"
      ],
      "execution_count": null,
      "outputs": []
    },
    {
      "cell_type": "markdown",
      "metadata": {
        "id": "EysuxF4K0vnj",
        "colab_type": "text"
      },
      "source": [
        "## Display Data Stats for the Security"
      ]
    },
    {
      "cell_type": "code",
      "metadata": {
        "id": "KdBde7cmz0X9",
        "colab_type": "code",
        "colab": {}
      },
      "source": [
        "print(f'Data stats for {symbol}\\n')\n",
        "df = pd.DataFrame(data=table_data, columns=table_columns)\n",
        "df"
      ],
      "execution_count": null,
      "outputs": []
    }
  ]
}